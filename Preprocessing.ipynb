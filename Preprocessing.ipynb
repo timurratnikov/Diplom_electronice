{
  "cells": [
    {
      "cell_type": "code",
      "execution_count": 1,
      "metadata": {
        "id": "SkF60761PMIz"
      },
      "outputs": [],
      "source": [
        "import pandas as pd\n",
        "import numpy as np\n",
        "import math"
      ]
    },
    {
      "cell_type": "code",
      "execution_count": 2,
      "metadata": {
        "id": "xbb_gOVHUZ6O"
      },
      "outputs": [],
      "source": [
        "path = 'electronika_03_04.xlsx'\n",
        "df = pd.read_excel(path)"
      ]
    },
    {
      "cell_type": "code",
      "execution_count": 3,
      "metadata": {
        "colab": {
          "base_uri": "https://localhost:8080/"
        },
        "id": "iDVUxfPZUo6G",
        "outputId": "acb42988-9129-4295-850f-e73869945e32"
      },
      "outputs": [
        {
          "name": "stdout",
          "output_type": "stream",
          "text": [
            "<class 'pandas.core.frame.DataFrame'>\n",
            "RangeIndex: 357036 entries, 0 to 357035\n",
            "Data columns (total 37 columns):\n",
            " #   Column        Non-Null Count   Dtype         \n",
            "---  ------        --------------   -----         \n",
            " 0   Order_ID      357036 non-null  object        \n",
            " 1   Email_new     357036 non-null  object        \n",
            " 2   Phone_new     357036 non-null  object        \n",
            " 3   Source        357036 non-null  object        \n",
            " 4   OrderDate     357036 non-null  datetime64[ns]\n",
            " 5   время         357036 non-null  object        \n",
            " 6   месяц         357036 non-null  int64         \n",
            " 7   ChangeDate    357036 non-null  object        \n",
            " 8   DeliveryDate  357036 non-null  object        \n",
            " 9   PaymentDate   357036 non-null  object        \n",
            " 10  Status        357036 non-null  object        \n",
            " 11  Status_ID     357036 non-null  int64         \n",
            " 12  OneClick      357036 non-null  int64         \n",
            " 13  CancelReason  126168 non-null  object        \n",
            " 14  Actions       95540 non-null   object        \n",
            " 15  DeliveryType  348751 non-null  object        \n",
            " 16  PaymentType   357036 non-null  object        \n",
            " 17  Region        357034 non-null  object        \n",
            " 18  Area          355405 non-null  object        \n",
            " 19  Store_ID      357036 non-null  int64         \n",
            " 20  FullSum       357016 non-null  float64       \n",
            " 21  Discount      357016 non-null  float64       \n",
            " 22  IM_Rozn_Sum   357016 non-null  float64       \n",
            " 23  Row_ID        357016 non-null  float64       \n",
            " 24  Articul       357016 non-null  float64       \n",
            " 25  Nom_Name      356978 non-null  object        \n",
            " 26  NomGroup      357016 non-null  object        \n",
            " 27  Quant         357016 non-null  float64       \n",
            " 28  RowPrice      357016 non-null  float64       \n",
            " 29  RowDiscount   357016 non-null  float64       \n",
            " 30  RowSum        357016 non-null  float64       \n",
            " 31  Brand         190895 non-null  object        \n",
            " 32  TN            190935 non-null  object        \n",
            " 33  TK            190935 non-null  object        \n",
            " 34  NomFullPath   357016 non-null  object        \n",
            " 35  Week          357016 non-null  float64       \n",
            " 36  Nom_ID        357016 non-null  float64       \n",
            "dtypes: datetime64[ns](1), float64(11), int64(4), object(21)\n",
            "memory usage: 100.8+ MB\n",
            "None\n"
          ]
        }
      ],
      "source": [
        "print(df.info(memory_usage=True)) #данные о признаках"
      ]
    },
    {
      "cell_type": "code",
      "execution_count": 4,
      "metadata": {
        "id": "vydaHTh7Vu97"
      },
      "outputs": [],
      "source": [
        "df = df[df.Phone_new != 0]"
      ]
    },
    {
      "cell_type": "code",
      "execution_count": 5,
      "metadata": {
        "colab": {
          "base_uri": "https://localhost:8080/"
        },
        "id": "nwjis17-Wqo7",
        "outputId": "51bf2c1e-9171-4930-bb0f-87adff6bcf0d"
      },
      "outputs": [
        {
          "data": {
            "text/plain": [
              "349461"
            ]
          },
          "execution_count": 5,
          "metadata": {},
          "output_type": "execute_result"
        }
      ],
      "source": [
        "len(df) #стало на 8к записей меньше"
      ]
    },
    {
      "cell_type": "code",
      "execution_count": 6,
      "metadata": {
        "colab": {
          "base_uri": "https://localhost:8080/"
        },
        "id": "fHZOpb81Wzo0",
        "outputId": "a5bfc850-78f4-47f5-e056-03ee4e30c0ea"
      },
      "outputs": [
        {
          "ename": "TypeError",
          "evalue": "'<=' not supported between instances of 'str' and 'int'",
          "output_type": "error",
          "traceback": [
            "\u001b[31m---------------------------------------------------------------------------\u001b[39m",
            "\u001b[31mTypeError\u001b[39m                                 Traceback (most recent call last)",
            "\u001b[36mCell\u001b[39m\u001b[36m \u001b[39m\u001b[32mIn[6]\u001b[39m\u001b[32m, line 1\u001b[39m\n\u001b[32m----> \u001b[39m\u001b[32m1\u001b[39m \u001b[43mdf\u001b[49m\u001b[43m.\u001b[49m\u001b[43mmin\u001b[49m\u001b[43m(\u001b[49m\u001b[43m)\u001b[49m\n",
            "\u001b[36mFile \u001b[39m\u001b[32m~/diplom_electronice/.venv/lib/python3.11/site-packages/pandas/core/frame.py:11643\u001b[39m, in \u001b[36mDataFrame.min\u001b[39m\u001b[34m(self, axis, skipna, numeric_only, **kwargs)\u001b[39m\n\u001b[32m  11635\u001b[39m \u001b[38;5;129m@doc\u001b[39m(make_doc(\u001b[33m\"\u001b[39m\u001b[33mmin\u001b[39m\u001b[33m\"\u001b[39m, ndim=\u001b[32m2\u001b[39m))\n\u001b[32m  11636\u001b[39m \u001b[38;5;28;01mdef\u001b[39;00m\u001b[38;5;250m \u001b[39m\u001b[34mmin\u001b[39m(\n\u001b[32m  11637\u001b[39m     \u001b[38;5;28mself\u001b[39m,\n\u001b[32m   (...)\u001b[39m\u001b[32m  11641\u001b[39m     **kwargs,\n\u001b[32m  11642\u001b[39m ):\n\u001b[32m> \u001b[39m\u001b[32m11643\u001b[39m     result = \u001b[38;5;28;43msuper\u001b[39;49m\u001b[43m(\u001b[49m\u001b[43m)\u001b[49m\u001b[43m.\u001b[49m\u001b[43mmin\u001b[49m\u001b[43m(\u001b[49m\u001b[43maxis\u001b[49m\u001b[43m,\u001b[49m\u001b[43m \u001b[49m\u001b[43mskipna\u001b[49m\u001b[43m,\u001b[49m\u001b[43m \u001b[49m\u001b[43mnumeric_only\u001b[49m\u001b[43m,\u001b[49m\u001b[43m \u001b[49m\u001b[43m*\u001b[49m\u001b[43m*\u001b[49m\u001b[43mkwargs\u001b[49m\u001b[43m)\u001b[49m\n\u001b[32m  11644\u001b[39m     \u001b[38;5;28;01mif\u001b[39;00m \u001b[38;5;28misinstance\u001b[39m(result, Series):\n\u001b[32m  11645\u001b[39m         result = result.__finalize__(\u001b[38;5;28mself\u001b[39m, method=\u001b[33m\"\u001b[39m\u001b[33mmin\u001b[39m\u001b[33m\"\u001b[39m)\n",
            "\u001b[36mFile \u001b[39m\u001b[32m~/diplom_electronice/.venv/lib/python3.11/site-packages/pandas/core/generic.py:12388\u001b[39m, in \u001b[36mNDFrame.min\u001b[39m\u001b[34m(self, axis, skipna, numeric_only, **kwargs)\u001b[39m\n\u001b[32m  12381\u001b[39m \u001b[38;5;28;01mdef\u001b[39;00m\u001b[38;5;250m \u001b[39m\u001b[34mmin\u001b[39m(\n\u001b[32m  12382\u001b[39m     \u001b[38;5;28mself\u001b[39m,\n\u001b[32m  12383\u001b[39m     axis: Axis | \u001b[38;5;28;01mNone\u001b[39;00m = \u001b[32m0\u001b[39m,\n\u001b[32m   (...)\u001b[39m\u001b[32m  12386\u001b[39m     **kwargs,\n\u001b[32m  12387\u001b[39m ):\n\u001b[32m> \u001b[39m\u001b[32m12388\u001b[39m     \u001b[38;5;28;01mreturn\u001b[39;00m \u001b[38;5;28;43mself\u001b[39;49m\u001b[43m.\u001b[49m\u001b[43m_stat_function\u001b[49m\u001b[43m(\u001b[49m\n\u001b[32m  12389\u001b[39m \u001b[43m        \u001b[49m\u001b[33;43m\"\u001b[39;49m\u001b[33;43mmin\u001b[39;49m\u001b[33;43m\"\u001b[39;49m\u001b[43m,\u001b[49m\n\u001b[32m  12390\u001b[39m \u001b[43m        \u001b[49m\u001b[43mnanops\u001b[49m\u001b[43m.\u001b[49m\u001b[43mnanmin\u001b[49m\u001b[43m,\u001b[49m\n\u001b[32m  12391\u001b[39m \u001b[43m        \u001b[49m\u001b[43maxis\u001b[49m\u001b[43m,\u001b[49m\n\u001b[32m  12392\u001b[39m \u001b[43m        \u001b[49m\u001b[43mskipna\u001b[49m\u001b[43m,\u001b[49m\n\u001b[32m  12393\u001b[39m \u001b[43m        \u001b[49m\u001b[43mnumeric_only\u001b[49m\u001b[43m,\u001b[49m\n\u001b[32m  12394\u001b[39m \u001b[43m        \u001b[49m\u001b[43m*\u001b[49m\u001b[43m*\u001b[49m\u001b[43mkwargs\u001b[49m\u001b[43m,\u001b[49m\n\u001b[32m  12395\u001b[39m \u001b[43m    \u001b[49m\u001b[43m)\u001b[49m\n",
            "\u001b[36mFile \u001b[39m\u001b[32m~/diplom_electronice/.venv/lib/python3.11/site-packages/pandas/core/generic.py:12377\u001b[39m, in \u001b[36mNDFrame._stat_function\u001b[39m\u001b[34m(self, name, func, axis, skipna, numeric_only, **kwargs)\u001b[39m\n\u001b[32m  12373\u001b[39m nv.validate_func(name, (), kwargs)\n\u001b[32m  12375\u001b[39m validate_bool_kwarg(skipna, \u001b[33m\"\u001b[39m\u001b[33mskipna\u001b[39m\u001b[33m\"\u001b[39m, none_allowed=\u001b[38;5;28;01mFalse\u001b[39;00m)\n\u001b[32m> \u001b[39m\u001b[32m12377\u001b[39m \u001b[38;5;28;01mreturn\u001b[39;00m \u001b[38;5;28;43mself\u001b[39;49m\u001b[43m.\u001b[49m\u001b[43m_reduce\u001b[49m\u001b[43m(\u001b[49m\n\u001b[32m  12378\u001b[39m \u001b[43m    \u001b[49m\u001b[43mfunc\u001b[49m\u001b[43m,\u001b[49m\u001b[43m \u001b[49m\u001b[43mname\u001b[49m\u001b[43m=\u001b[49m\u001b[43mname\u001b[49m\u001b[43m,\u001b[49m\u001b[43m \u001b[49m\u001b[43maxis\u001b[49m\u001b[43m=\u001b[49m\u001b[43maxis\u001b[49m\u001b[43m,\u001b[49m\u001b[43m \u001b[49m\u001b[43mskipna\u001b[49m\u001b[43m=\u001b[49m\u001b[43mskipna\u001b[49m\u001b[43m,\u001b[49m\u001b[43m \u001b[49m\u001b[43mnumeric_only\u001b[49m\u001b[43m=\u001b[49m\u001b[43mnumeric_only\u001b[49m\n\u001b[32m  12379\u001b[39m \u001b[43m\u001b[49m\u001b[43m)\u001b[49m\n",
            "\u001b[36mFile \u001b[39m\u001b[32m~/diplom_electronice/.venv/lib/python3.11/site-packages/pandas/core/frame.py:11562\u001b[39m, in \u001b[36mDataFrame._reduce\u001b[39m\u001b[34m(self, op, name, axis, skipna, numeric_only, filter_type, **kwds)\u001b[39m\n\u001b[32m  11558\u001b[39m     df = df.T\n\u001b[32m  11560\u001b[39m \u001b[38;5;66;03m# After possibly _get_data and transposing, we are now in the\u001b[39;00m\n\u001b[32m  11561\u001b[39m \u001b[38;5;66;03m#  simple case where we can use BlockManager.reduce\u001b[39;00m\n\u001b[32m> \u001b[39m\u001b[32m11562\u001b[39m res = \u001b[43mdf\u001b[49m\u001b[43m.\u001b[49m\u001b[43m_mgr\u001b[49m\u001b[43m.\u001b[49m\u001b[43mreduce\u001b[49m\u001b[43m(\u001b[49m\u001b[43mblk_func\u001b[49m\u001b[43m)\u001b[49m\n\u001b[32m  11563\u001b[39m out = df._constructor_from_mgr(res, axes=res.axes).iloc[\u001b[32m0\u001b[39m]\n\u001b[32m  11564\u001b[39m \u001b[38;5;28;01mif\u001b[39;00m out_dtype \u001b[38;5;129;01mis\u001b[39;00m \u001b[38;5;129;01mnot\u001b[39;00m \u001b[38;5;28;01mNone\u001b[39;00m \u001b[38;5;129;01mand\u001b[39;00m out.dtype != \u001b[33m\"\u001b[39m\u001b[33mboolean\u001b[39m\u001b[33m\"\u001b[39m:\n",
            "\u001b[36mFile \u001b[39m\u001b[32m~/diplom_electronice/.venv/lib/python3.11/site-packages/pandas/core/internals/managers.py:1500\u001b[39m, in \u001b[36mBlockManager.reduce\u001b[39m\u001b[34m(self, func)\u001b[39m\n\u001b[32m   1498\u001b[39m res_blocks: \u001b[38;5;28mlist\u001b[39m[Block] = []\n\u001b[32m   1499\u001b[39m \u001b[38;5;28;01mfor\u001b[39;00m blk \u001b[38;5;129;01min\u001b[39;00m \u001b[38;5;28mself\u001b[39m.blocks:\n\u001b[32m-> \u001b[39m\u001b[32m1500\u001b[39m     nbs = \u001b[43mblk\u001b[49m\u001b[43m.\u001b[49m\u001b[43mreduce\u001b[49m\u001b[43m(\u001b[49m\u001b[43mfunc\u001b[49m\u001b[43m)\u001b[49m\n\u001b[32m   1501\u001b[39m     res_blocks.extend(nbs)\n\u001b[32m   1503\u001b[39m index = Index([\u001b[38;5;28;01mNone\u001b[39;00m])  \u001b[38;5;66;03m# placeholder\u001b[39;00m\n",
            "\u001b[36mFile \u001b[39m\u001b[32m~/diplom_electronice/.venv/lib/python3.11/site-packages/pandas/core/internals/blocks.py:404\u001b[39m, in \u001b[36mBlock.reduce\u001b[39m\u001b[34m(self, func)\u001b[39m\n\u001b[32m    398\u001b[39m \u001b[38;5;129m@final\u001b[39m\n\u001b[32m    399\u001b[39m \u001b[38;5;28;01mdef\u001b[39;00m\u001b[38;5;250m \u001b[39m\u001b[34mreduce\u001b[39m(\u001b[38;5;28mself\u001b[39m, func) -> \u001b[38;5;28mlist\u001b[39m[Block]:\n\u001b[32m    400\u001b[39m     \u001b[38;5;66;03m# We will apply the function and reshape the result into a single-row\u001b[39;00m\n\u001b[32m    401\u001b[39m     \u001b[38;5;66;03m#  Block with the same mgr_locs; squeezing will be done at a higher level\u001b[39;00m\n\u001b[32m    402\u001b[39m     \u001b[38;5;28;01massert\u001b[39;00m \u001b[38;5;28mself\u001b[39m.ndim == \u001b[32m2\u001b[39m\n\u001b[32m--> \u001b[39m\u001b[32m404\u001b[39m     result = \u001b[43mfunc\u001b[49m\u001b[43m(\u001b[49m\u001b[38;5;28;43mself\u001b[39;49m\u001b[43m.\u001b[49m\u001b[43mvalues\u001b[49m\u001b[43m)\u001b[49m\n\u001b[32m    406\u001b[39m     \u001b[38;5;28;01mif\u001b[39;00m \u001b[38;5;28mself\u001b[39m.values.ndim == \u001b[32m1\u001b[39m:\n\u001b[32m    407\u001b[39m         res_values = result\n",
            "\u001b[36mFile \u001b[39m\u001b[32m~/diplom_electronice/.venv/lib/python3.11/site-packages/pandas/core/frame.py:11481\u001b[39m, in \u001b[36mDataFrame._reduce.<locals>.blk_func\u001b[39m\u001b[34m(values, axis)\u001b[39m\n\u001b[32m  11479\u001b[39m         \u001b[38;5;28;01mreturn\u001b[39;00m np.array([result])\n\u001b[32m  11480\u001b[39m \u001b[38;5;28;01melse\u001b[39;00m:\n\u001b[32m> \u001b[39m\u001b[32m11481\u001b[39m     \u001b[38;5;28;01mreturn\u001b[39;00m \u001b[43mop\u001b[49m\u001b[43m(\u001b[49m\u001b[43mvalues\u001b[49m\u001b[43m,\u001b[49m\u001b[43m \u001b[49m\u001b[43maxis\u001b[49m\u001b[43m=\u001b[49m\u001b[43maxis\u001b[49m\u001b[43m,\u001b[49m\u001b[43m \u001b[49m\u001b[43mskipna\u001b[49m\u001b[43m=\u001b[49m\u001b[43mskipna\u001b[49m\u001b[43m,\u001b[49m\u001b[43m \u001b[49m\u001b[43m*\u001b[49m\u001b[43m*\u001b[49m\u001b[43mkwds\u001b[49m\u001b[43m)\u001b[49m\n",
            "\u001b[36mFile \u001b[39m\u001b[32m~/diplom_electronice/.venv/lib/python3.11/site-packages/pandas/core/nanops.py:147\u001b[39m, in \u001b[36mbottleneck_switch.__call__.<locals>.f\u001b[39m\u001b[34m(values, axis, skipna, **kwds)\u001b[39m\n\u001b[32m    145\u001b[39m         result = alt(values, axis=axis, skipna=skipna, **kwds)\n\u001b[32m    146\u001b[39m \u001b[38;5;28;01melse\u001b[39;00m:\n\u001b[32m--> \u001b[39m\u001b[32m147\u001b[39m     result = \u001b[43malt\u001b[49m\u001b[43m(\u001b[49m\u001b[43mvalues\u001b[49m\u001b[43m,\u001b[49m\u001b[43m \u001b[49m\u001b[43maxis\u001b[49m\u001b[43m=\u001b[49m\u001b[43maxis\u001b[49m\u001b[43m,\u001b[49m\u001b[43m \u001b[49m\u001b[43mskipna\u001b[49m\u001b[43m=\u001b[49m\u001b[43mskipna\u001b[49m\u001b[43m,\u001b[49m\u001b[43m \u001b[49m\u001b[43m*\u001b[49m\u001b[43m*\u001b[49m\u001b[43mkwds\u001b[49m\u001b[43m)\u001b[49m\n\u001b[32m    149\u001b[39m \u001b[38;5;28;01mreturn\u001b[39;00m result\n",
            "\u001b[36mFile \u001b[39m\u001b[32m~/diplom_electronice/.venv/lib/python3.11/site-packages/pandas/core/nanops.py:404\u001b[39m, in \u001b[36m_datetimelike_compat.<locals>.new_func\u001b[39m\u001b[34m(values, axis, skipna, mask, **kwargs)\u001b[39m\n\u001b[32m    401\u001b[39m \u001b[38;5;28;01mif\u001b[39;00m datetimelike \u001b[38;5;129;01mand\u001b[39;00m mask \u001b[38;5;129;01mis\u001b[39;00m \u001b[38;5;28;01mNone\u001b[39;00m:\n\u001b[32m    402\u001b[39m     mask = isna(values)\n\u001b[32m--> \u001b[39m\u001b[32m404\u001b[39m result = \u001b[43mfunc\u001b[49m\u001b[43m(\u001b[49m\u001b[43mvalues\u001b[49m\u001b[43m,\u001b[49m\u001b[43m \u001b[49m\u001b[43maxis\u001b[49m\u001b[43m=\u001b[49m\u001b[43maxis\u001b[49m\u001b[43m,\u001b[49m\u001b[43m \u001b[49m\u001b[43mskipna\u001b[49m\u001b[43m=\u001b[49m\u001b[43mskipna\u001b[49m\u001b[43m,\u001b[49m\u001b[43m \u001b[49m\u001b[43mmask\u001b[49m\u001b[43m=\u001b[49m\u001b[43mmask\u001b[49m\u001b[43m,\u001b[49m\u001b[43m \u001b[49m\u001b[43m*\u001b[49m\u001b[43m*\u001b[49m\u001b[43mkwargs\u001b[49m\u001b[43m)\u001b[49m\n\u001b[32m    406\u001b[39m \u001b[38;5;28;01mif\u001b[39;00m datetimelike:\n\u001b[32m    407\u001b[39m     result = _wrap_results(result, orig_values.dtype, fill_value=iNaT)\n",
            "\u001b[36mFile \u001b[39m\u001b[32m~/diplom_electronice/.venv/lib/python3.11/site-packages/pandas/core/nanops.py:1098\u001b[39m, in \u001b[36m_nanminmax.<locals>.reduction\u001b[39m\u001b[34m(values, axis, skipna, mask)\u001b[39m\n\u001b[32m   1093\u001b[39m     \u001b[38;5;28;01mreturn\u001b[39;00m _na_for_min_count(values, axis)\n\u001b[32m   1095\u001b[39m values, mask = _get_values(\n\u001b[32m   1096\u001b[39m     values, skipna, fill_value_typ=fill_value_typ, mask=mask\n\u001b[32m   1097\u001b[39m )\n\u001b[32m-> \u001b[39m\u001b[32m1098\u001b[39m result = \u001b[38;5;28;43mgetattr\u001b[39;49m\u001b[43m(\u001b[49m\u001b[43mvalues\u001b[49m\u001b[43m,\u001b[49m\u001b[43m \u001b[49m\u001b[43mmeth\u001b[49m\u001b[43m)\u001b[49m\u001b[43m(\u001b[49m\u001b[43maxis\u001b[49m\u001b[43m)\u001b[49m\n\u001b[32m   1099\u001b[39m result = _maybe_null_out(result, axis, mask, values.shape)\n\u001b[32m   1100\u001b[39m \u001b[38;5;28;01mreturn\u001b[39;00m result\n",
            "\u001b[36mFile \u001b[39m\u001b[32m~/diplom_electronice/.venv/lib/python3.11/site-packages/numpy/_core/_methods.py:48\u001b[39m, in \u001b[36m_amin\u001b[39m\u001b[34m(a, axis, out, keepdims, initial, where)\u001b[39m\n\u001b[32m     46\u001b[39m \u001b[38;5;28;01mdef\u001b[39;00m\u001b[38;5;250m \u001b[39m\u001b[34m_amin\u001b[39m(a, axis=\u001b[38;5;28;01mNone\u001b[39;00m, out=\u001b[38;5;28;01mNone\u001b[39;00m, keepdims=\u001b[38;5;28;01mFalse\u001b[39;00m,\n\u001b[32m     47\u001b[39m           initial=_NoValue, where=\u001b[38;5;28;01mTrue\u001b[39;00m):\n\u001b[32m---> \u001b[39m\u001b[32m48\u001b[39m     \u001b[38;5;28;01mreturn\u001b[39;00m \u001b[43mumr_minimum\u001b[49m\u001b[43m(\u001b[49m\u001b[43ma\u001b[49m\u001b[43m,\u001b[49m\u001b[43m \u001b[49m\u001b[43maxis\u001b[49m\u001b[43m,\u001b[49m\u001b[43m \u001b[49m\u001b[38;5;28;43;01mNone\u001b[39;49;00m\u001b[43m,\u001b[49m\u001b[43m \u001b[49m\u001b[43mout\u001b[49m\u001b[43m,\u001b[49m\u001b[43m \u001b[49m\u001b[43mkeepdims\u001b[49m\u001b[43m,\u001b[49m\u001b[43m \u001b[49m\u001b[43minitial\u001b[49m\u001b[43m,\u001b[49m\u001b[43m \u001b[49m\u001b[43mwhere\u001b[49m\u001b[43m)\u001b[49m\n",
            "\u001b[31mTypeError\u001b[39m: '<=' not supported between instances of 'str' and 'int'"
          ]
        }
      ],
      "source": [
        "df.min()"
      ]
    },
    {
      "cell_type": "code",
      "execution_count": null,
      "metadata": {
        "colab": {
          "base_uri": "https://localhost:8080/"
        },
        "id": "ZhGzKcNSZUUj",
        "outputId": "b2107852-c54a-4407-e5bd-2202bfba6532"
      },
      "outputs": [
        {
          "name": "stderr",
          "output_type": "stream",
          "text": [
            "/usr/local/lib/python3.7/dist-packages/ipykernel_launcher.py:1: FutureWarning: Dropping of nuisance columns in DataFrame reductions (with 'numeric_only=None') is deprecated; in a future version this will raise TypeError.  Select only valid columns before calling the reduction.\n",
            "  \"\"\"Entry point for launching an IPython kernel.\n"
          ]
        },
        {
          "data": {
            "text/plain": [
              "Order_ID                                       5898108_BX\n",
              "Phone_new                         57565355-57554952485597\n",
              "Source                                           Терминал\n",
              "OrderDate                             2016-04-30 00:00:00\n",
              "время                                        23:59:59.000\n",
              "месяц                                              201604\n",
              "ChangeDate                        2016-07-10 11:15:49.000\n",
              "DeliveryDate                      2016-07-14 00:00:00.000\n",
              "PaymentDate                       2016-06-04 15:13:42.000\n",
              "Status                                         Согласован\n",
              "Status_ID                                              26\n",
              "OneClick                                                1\n",
              "PaymentType                                      Наличные\n",
              "Store_ID                                             9999\n",
              "FullSum                                          888740.0\n",
              "Discount                                          40011.0\n",
              "IM_Rozn_Sum                                      888740.0\n",
              "Row_ID                                               41.0\n",
              "Articul                                         1263264.0\n",
              "NomGroup        Ящики, органайзеры, сумки для инструмента\n",
              "Quant                                               285.0\n",
              "RowPrice                                         676240.0\n",
              "RowDiscount                                       56090.0\n",
              "RowSum                                           676240.0\n",
              "NomFullPath             Фото- и видеотехника/Экшн-камеры/\n",
              "Week                                                 17.0\n",
              "Nom_ID                                           366186.0\n",
              "dtype: object"
            ]
          },
          "execution_count": 7,
          "metadata": {},
          "output_type": "execute_result"
        }
      ],
      "source": [
        "df.max()"
      ]
    },
    {
      "cell_type": "code",
      "execution_count": null,
      "metadata": {
        "id": "PFx6SLmtZq-X"
      },
      "outputs": [],
      "source": [
        "#df = df[df[\"DeliveryDate\"].str.contains(\"1900\") == False]\n",
        "#df = df[df[\"PaymentDate\"].str.contains(\"1900\") == False]"
      ]
    },
    {
      "cell_type": "code",
      "execution_count": 7,
      "metadata": {
        "colab": {
          "base_uri": "https://localhost:8080/"
        },
        "id": "-DTBbKaYZsV_",
        "outputId": "6754271d-1fa9-4f68-82f0-3f12ef877b43"
      },
      "outputs": [
        {
          "ename": "TypeError",
          "evalue": "'<=' not supported between instances of 'str' and 'int'",
          "output_type": "error",
          "traceback": [
            "\u001b[31m---------------------------------------------------------------------------\u001b[39m",
            "\u001b[31mTypeError\u001b[39m                                 Traceback (most recent call last)",
            "\u001b[36mCell\u001b[39m\u001b[36m \u001b[39m\u001b[32mIn[7]\u001b[39m\u001b[32m, line 1\u001b[39m\n\u001b[32m----> \u001b[39m\u001b[32m1\u001b[39m \u001b[43mdf\u001b[49m\u001b[43m.\u001b[49m\u001b[43mmin\u001b[49m\u001b[43m(\u001b[49m\u001b[43m)\u001b[49m\n",
            "\u001b[36mFile \u001b[39m\u001b[32m~/diplom_electronice/.venv/lib/python3.11/site-packages/pandas/core/frame.py:11643\u001b[39m, in \u001b[36mDataFrame.min\u001b[39m\u001b[34m(self, axis, skipna, numeric_only, **kwargs)\u001b[39m\n\u001b[32m  11635\u001b[39m \u001b[38;5;129m@doc\u001b[39m(make_doc(\u001b[33m\"\u001b[39m\u001b[33mmin\u001b[39m\u001b[33m\"\u001b[39m, ndim=\u001b[32m2\u001b[39m))\n\u001b[32m  11636\u001b[39m \u001b[38;5;28;01mdef\u001b[39;00m\u001b[38;5;250m \u001b[39m\u001b[34mmin\u001b[39m(\n\u001b[32m  11637\u001b[39m     \u001b[38;5;28mself\u001b[39m,\n\u001b[32m   (...)\u001b[39m\u001b[32m  11641\u001b[39m     **kwargs,\n\u001b[32m  11642\u001b[39m ):\n\u001b[32m> \u001b[39m\u001b[32m11643\u001b[39m     result = \u001b[38;5;28;43msuper\u001b[39;49m\u001b[43m(\u001b[49m\u001b[43m)\u001b[49m\u001b[43m.\u001b[49m\u001b[43mmin\u001b[49m\u001b[43m(\u001b[49m\u001b[43maxis\u001b[49m\u001b[43m,\u001b[49m\u001b[43m \u001b[49m\u001b[43mskipna\u001b[49m\u001b[43m,\u001b[49m\u001b[43m \u001b[49m\u001b[43mnumeric_only\u001b[49m\u001b[43m,\u001b[49m\u001b[43m \u001b[49m\u001b[43m*\u001b[49m\u001b[43m*\u001b[49m\u001b[43mkwargs\u001b[49m\u001b[43m)\u001b[49m\n\u001b[32m  11644\u001b[39m     \u001b[38;5;28;01mif\u001b[39;00m \u001b[38;5;28misinstance\u001b[39m(result, Series):\n\u001b[32m  11645\u001b[39m         result = result.__finalize__(\u001b[38;5;28mself\u001b[39m, method=\u001b[33m\"\u001b[39m\u001b[33mmin\u001b[39m\u001b[33m\"\u001b[39m)\n",
            "\u001b[36mFile \u001b[39m\u001b[32m~/diplom_electronice/.venv/lib/python3.11/site-packages/pandas/core/generic.py:12388\u001b[39m, in \u001b[36mNDFrame.min\u001b[39m\u001b[34m(self, axis, skipna, numeric_only, **kwargs)\u001b[39m\n\u001b[32m  12381\u001b[39m \u001b[38;5;28;01mdef\u001b[39;00m\u001b[38;5;250m \u001b[39m\u001b[34mmin\u001b[39m(\n\u001b[32m  12382\u001b[39m     \u001b[38;5;28mself\u001b[39m,\n\u001b[32m  12383\u001b[39m     axis: Axis | \u001b[38;5;28;01mNone\u001b[39;00m = \u001b[32m0\u001b[39m,\n\u001b[32m   (...)\u001b[39m\u001b[32m  12386\u001b[39m     **kwargs,\n\u001b[32m  12387\u001b[39m ):\n\u001b[32m> \u001b[39m\u001b[32m12388\u001b[39m     \u001b[38;5;28;01mreturn\u001b[39;00m \u001b[38;5;28;43mself\u001b[39;49m\u001b[43m.\u001b[49m\u001b[43m_stat_function\u001b[49m\u001b[43m(\u001b[49m\n\u001b[32m  12389\u001b[39m \u001b[43m        \u001b[49m\u001b[33;43m\"\u001b[39;49m\u001b[33;43mmin\u001b[39;49m\u001b[33;43m\"\u001b[39;49m\u001b[43m,\u001b[49m\n\u001b[32m  12390\u001b[39m \u001b[43m        \u001b[49m\u001b[43mnanops\u001b[49m\u001b[43m.\u001b[49m\u001b[43mnanmin\u001b[49m\u001b[43m,\u001b[49m\n\u001b[32m  12391\u001b[39m \u001b[43m        \u001b[49m\u001b[43maxis\u001b[49m\u001b[43m,\u001b[49m\n\u001b[32m  12392\u001b[39m \u001b[43m        \u001b[49m\u001b[43mskipna\u001b[49m\u001b[43m,\u001b[49m\n\u001b[32m  12393\u001b[39m \u001b[43m        \u001b[49m\u001b[43mnumeric_only\u001b[49m\u001b[43m,\u001b[49m\n\u001b[32m  12394\u001b[39m \u001b[43m        \u001b[49m\u001b[43m*\u001b[49m\u001b[43m*\u001b[49m\u001b[43mkwargs\u001b[49m\u001b[43m,\u001b[49m\n\u001b[32m  12395\u001b[39m \u001b[43m    \u001b[49m\u001b[43m)\u001b[49m\n",
            "\u001b[36mFile \u001b[39m\u001b[32m~/diplom_electronice/.venv/lib/python3.11/site-packages/pandas/core/generic.py:12377\u001b[39m, in \u001b[36mNDFrame._stat_function\u001b[39m\u001b[34m(self, name, func, axis, skipna, numeric_only, **kwargs)\u001b[39m\n\u001b[32m  12373\u001b[39m nv.validate_func(name, (), kwargs)\n\u001b[32m  12375\u001b[39m validate_bool_kwarg(skipna, \u001b[33m\"\u001b[39m\u001b[33mskipna\u001b[39m\u001b[33m\"\u001b[39m, none_allowed=\u001b[38;5;28;01mFalse\u001b[39;00m)\n\u001b[32m> \u001b[39m\u001b[32m12377\u001b[39m \u001b[38;5;28;01mreturn\u001b[39;00m \u001b[38;5;28;43mself\u001b[39;49m\u001b[43m.\u001b[49m\u001b[43m_reduce\u001b[49m\u001b[43m(\u001b[49m\n\u001b[32m  12378\u001b[39m \u001b[43m    \u001b[49m\u001b[43mfunc\u001b[49m\u001b[43m,\u001b[49m\u001b[43m \u001b[49m\u001b[43mname\u001b[49m\u001b[43m=\u001b[49m\u001b[43mname\u001b[49m\u001b[43m,\u001b[49m\u001b[43m \u001b[49m\u001b[43maxis\u001b[49m\u001b[43m=\u001b[49m\u001b[43maxis\u001b[49m\u001b[43m,\u001b[49m\u001b[43m \u001b[49m\u001b[43mskipna\u001b[49m\u001b[43m=\u001b[49m\u001b[43mskipna\u001b[49m\u001b[43m,\u001b[49m\u001b[43m \u001b[49m\u001b[43mnumeric_only\u001b[49m\u001b[43m=\u001b[49m\u001b[43mnumeric_only\u001b[49m\n\u001b[32m  12379\u001b[39m \u001b[43m\u001b[49m\u001b[43m)\u001b[49m\n",
            "\u001b[36mFile \u001b[39m\u001b[32m~/diplom_electronice/.venv/lib/python3.11/site-packages/pandas/core/frame.py:11562\u001b[39m, in \u001b[36mDataFrame._reduce\u001b[39m\u001b[34m(self, op, name, axis, skipna, numeric_only, filter_type, **kwds)\u001b[39m\n\u001b[32m  11558\u001b[39m     df = df.T\n\u001b[32m  11560\u001b[39m \u001b[38;5;66;03m# After possibly _get_data and transposing, we are now in the\u001b[39;00m\n\u001b[32m  11561\u001b[39m \u001b[38;5;66;03m#  simple case where we can use BlockManager.reduce\u001b[39;00m\n\u001b[32m> \u001b[39m\u001b[32m11562\u001b[39m res = \u001b[43mdf\u001b[49m\u001b[43m.\u001b[49m\u001b[43m_mgr\u001b[49m\u001b[43m.\u001b[49m\u001b[43mreduce\u001b[49m\u001b[43m(\u001b[49m\u001b[43mblk_func\u001b[49m\u001b[43m)\u001b[49m\n\u001b[32m  11563\u001b[39m out = df._constructor_from_mgr(res, axes=res.axes).iloc[\u001b[32m0\u001b[39m]\n\u001b[32m  11564\u001b[39m \u001b[38;5;28;01mif\u001b[39;00m out_dtype \u001b[38;5;129;01mis\u001b[39;00m \u001b[38;5;129;01mnot\u001b[39;00m \u001b[38;5;28;01mNone\u001b[39;00m \u001b[38;5;129;01mand\u001b[39;00m out.dtype != \u001b[33m\"\u001b[39m\u001b[33mboolean\u001b[39m\u001b[33m\"\u001b[39m:\n",
            "\u001b[36mFile \u001b[39m\u001b[32m~/diplom_electronice/.venv/lib/python3.11/site-packages/pandas/core/internals/managers.py:1500\u001b[39m, in \u001b[36mBlockManager.reduce\u001b[39m\u001b[34m(self, func)\u001b[39m\n\u001b[32m   1498\u001b[39m res_blocks: \u001b[38;5;28mlist\u001b[39m[Block] = []\n\u001b[32m   1499\u001b[39m \u001b[38;5;28;01mfor\u001b[39;00m blk \u001b[38;5;129;01min\u001b[39;00m \u001b[38;5;28mself\u001b[39m.blocks:\n\u001b[32m-> \u001b[39m\u001b[32m1500\u001b[39m     nbs = \u001b[43mblk\u001b[49m\u001b[43m.\u001b[49m\u001b[43mreduce\u001b[49m\u001b[43m(\u001b[49m\u001b[43mfunc\u001b[49m\u001b[43m)\u001b[49m\n\u001b[32m   1501\u001b[39m     res_blocks.extend(nbs)\n\u001b[32m   1503\u001b[39m index = Index([\u001b[38;5;28;01mNone\u001b[39;00m])  \u001b[38;5;66;03m# placeholder\u001b[39;00m\n",
            "\u001b[36mFile \u001b[39m\u001b[32m~/diplom_electronice/.venv/lib/python3.11/site-packages/pandas/core/internals/blocks.py:404\u001b[39m, in \u001b[36mBlock.reduce\u001b[39m\u001b[34m(self, func)\u001b[39m\n\u001b[32m    398\u001b[39m \u001b[38;5;129m@final\u001b[39m\n\u001b[32m    399\u001b[39m \u001b[38;5;28;01mdef\u001b[39;00m\u001b[38;5;250m \u001b[39m\u001b[34mreduce\u001b[39m(\u001b[38;5;28mself\u001b[39m, func) -> \u001b[38;5;28mlist\u001b[39m[Block]:\n\u001b[32m    400\u001b[39m     \u001b[38;5;66;03m# We will apply the function and reshape the result into a single-row\u001b[39;00m\n\u001b[32m    401\u001b[39m     \u001b[38;5;66;03m#  Block with the same mgr_locs; squeezing will be done at a higher level\u001b[39;00m\n\u001b[32m    402\u001b[39m     \u001b[38;5;28;01massert\u001b[39;00m \u001b[38;5;28mself\u001b[39m.ndim == \u001b[32m2\u001b[39m\n\u001b[32m--> \u001b[39m\u001b[32m404\u001b[39m     result = \u001b[43mfunc\u001b[49m\u001b[43m(\u001b[49m\u001b[38;5;28;43mself\u001b[39;49m\u001b[43m.\u001b[49m\u001b[43mvalues\u001b[49m\u001b[43m)\u001b[49m\n\u001b[32m    406\u001b[39m     \u001b[38;5;28;01mif\u001b[39;00m \u001b[38;5;28mself\u001b[39m.values.ndim == \u001b[32m1\u001b[39m:\n\u001b[32m    407\u001b[39m         res_values = result\n",
            "\u001b[36mFile \u001b[39m\u001b[32m~/diplom_electronice/.venv/lib/python3.11/site-packages/pandas/core/frame.py:11481\u001b[39m, in \u001b[36mDataFrame._reduce.<locals>.blk_func\u001b[39m\u001b[34m(values, axis)\u001b[39m\n\u001b[32m  11479\u001b[39m         \u001b[38;5;28;01mreturn\u001b[39;00m np.array([result])\n\u001b[32m  11480\u001b[39m \u001b[38;5;28;01melse\u001b[39;00m:\n\u001b[32m> \u001b[39m\u001b[32m11481\u001b[39m     \u001b[38;5;28;01mreturn\u001b[39;00m \u001b[43mop\u001b[49m\u001b[43m(\u001b[49m\u001b[43mvalues\u001b[49m\u001b[43m,\u001b[49m\u001b[43m \u001b[49m\u001b[43maxis\u001b[49m\u001b[43m=\u001b[49m\u001b[43maxis\u001b[49m\u001b[43m,\u001b[49m\u001b[43m \u001b[49m\u001b[43mskipna\u001b[49m\u001b[43m=\u001b[49m\u001b[43mskipna\u001b[49m\u001b[43m,\u001b[49m\u001b[43m \u001b[49m\u001b[43m*\u001b[49m\u001b[43m*\u001b[49m\u001b[43mkwds\u001b[49m\u001b[43m)\u001b[49m\n",
            "\u001b[36mFile \u001b[39m\u001b[32m~/diplom_electronice/.venv/lib/python3.11/site-packages/pandas/core/nanops.py:147\u001b[39m, in \u001b[36mbottleneck_switch.__call__.<locals>.f\u001b[39m\u001b[34m(values, axis, skipna, **kwds)\u001b[39m\n\u001b[32m    145\u001b[39m         result = alt(values, axis=axis, skipna=skipna, **kwds)\n\u001b[32m    146\u001b[39m \u001b[38;5;28;01melse\u001b[39;00m:\n\u001b[32m--> \u001b[39m\u001b[32m147\u001b[39m     result = \u001b[43malt\u001b[49m\u001b[43m(\u001b[49m\u001b[43mvalues\u001b[49m\u001b[43m,\u001b[49m\u001b[43m \u001b[49m\u001b[43maxis\u001b[49m\u001b[43m=\u001b[49m\u001b[43maxis\u001b[49m\u001b[43m,\u001b[49m\u001b[43m \u001b[49m\u001b[43mskipna\u001b[49m\u001b[43m=\u001b[49m\u001b[43mskipna\u001b[49m\u001b[43m,\u001b[49m\u001b[43m \u001b[49m\u001b[43m*\u001b[49m\u001b[43m*\u001b[49m\u001b[43mkwds\u001b[49m\u001b[43m)\u001b[49m\n\u001b[32m    149\u001b[39m \u001b[38;5;28;01mreturn\u001b[39;00m result\n",
            "\u001b[36mFile \u001b[39m\u001b[32m~/diplom_electronice/.venv/lib/python3.11/site-packages/pandas/core/nanops.py:404\u001b[39m, in \u001b[36m_datetimelike_compat.<locals>.new_func\u001b[39m\u001b[34m(values, axis, skipna, mask, **kwargs)\u001b[39m\n\u001b[32m    401\u001b[39m \u001b[38;5;28;01mif\u001b[39;00m datetimelike \u001b[38;5;129;01mand\u001b[39;00m mask \u001b[38;5;129;01mis\u001b[39;00m \u001b[38;5;28;01mNone\u001b[39;00m:\n\u001b[32m    402\u001b[39m     mask = isna(values)\n\u001b[32m--> \u001b[39m\u001b[32m404\u001b[39m result = \u001b[43mfunc\u001b[49m\u001b[43m(\u001b[49m\u001b[43mvalues\u001b[49m\u001b[43m,\u001b[49m\u001b[43m \u001b[49m\u001b[43maxis\u001b[49m\u001b[43m=\u001b[49m\u001b[43maxis\u001b[49m\u001b[43m,\u001b[49m\u001b[43m \u001b[49m\u001b[43mskipna\u001b[49m\u001b[43m=\u001b[49m\u001b[43mskipna\u001b[49m\u001b[43m,\u001b[49m\u001b[43m \u001b[49m\u001b[43mmask\u001b[49m\u001b[43m=\u001b[49m\u001b[43mmask\u001b[49m\u001b[43m,\u001b[49m\u001b[43m \u001b[49m\u001b[43m*\u001b[49m\u001b[43m*\u001b[49m\u001b[43mkwargs\u001b[49m\u001b[43m)\u001b[49m\n\u001b[32m    406\u001b[39m \u001b[38;5;28;01mif\u001b[39;00m datetimelike:\n\u001b[32m    407\u001b[39m     result = _wrap_results(result, orig_values.dtype, fill_value=iNaT)\n",
            "\u001b[36mFile \u001b[39m\u001b[32m~/diplom_electronice/.venv/lib/python3.11/site-packages/pandas/core/nanops.py:1098\u001b[39m, in \u001b[36m_nanminmax.<locals>.reduction\u001b[39m\u001b[34m(values, axis, skipna, mask)\u001b[39m\n\u001b[32m   1093\u001b[39m     \u001b[38;5;28;01mreturn\u001b[39;00m _na_for_min_count(values, axis)\n\u001b[32m   1095\u001b[39m values, mask = _get_values(\n\u001b[32m   1096\u001b[39m     values, skipna, fill_value_typ=fill_value_typ, mask=mask\n\u001b[32m   1097\u001b[39m )\n\u001b[32m-> \u001b[39m\u001b[32m1098\u001b[39m result = \u001b[38;5;28mgetattr\u001b[39m(values, meth)(axis)\n\u001b[32m   1099\u001b[39m result = _maybe_null_out(result, axis, mask, values.shape)\n\u001b[32m   1100\u001b[39m \u001b[38;5;28;01mreturn\u001b[39;00m result\n",
            "\u001b[36mFile \u001b[39m\u001b[32m~/diplom_electronice/.venv/lib/python3.11/site-packages/numpy/_core/_methods.py:48\u001b[39m, in \u001b[36m_amin\u001b[39m\u001b[34m(a, axis, out, keepdims, initial, where)\u001b[39m\n\u001b[32m     46\u001b[39m \u001b[38;5;28;01mdef\u001b[39;00m\u001b[38;5;250m \u001b[39m\u001b[34m_amin\u001b[39m(a, axis=\u001b[38;5;28;01mNone\u001b[39;00m, out=\u001b[38;5;28;01mNone\u001b[39;00m, keepdims=\u001b[38;5;28;01mFalse\u001b[39;00m,\n\u001b[32m     47\u001b[39m           initial=_NoValue, where=\u001b[38;5;28;01mTrue\u001b[39;00m):\n\u001b[32m---> \u001b[39m\u001b[32m48\u001b[39m     \u001b[38;5;28;01mreturn\u001b[39;00m umr_minimum(a, axis, \u001b[38;5;28;01mNone\u001b[39;00m, out, keepdims, initial, where)\n",
            "\u001b[31mTypeError\u001b[39m: '<=' not supported between instances of 'str' and 'int'"
          ]
        }
      ],
      "source": [
        "df.min()"
      ]
    },
    {
      "cell_type": "code",
      "execution_count": 8,
      "metadata": {
        "id": "417-4OdHspIS"
      },
      "outputs": [],
      "source": [
        "#len(df) #стало на 120к записей меньше"
      ]
    },
    {
      "cell_type": "code",
      "execution_count": 9,
      "metadata": {
        "id": "QdAH_ut_tYus"
      },
      "outputs": [],
      "source": [
        "df = df[df[\"NomFullPath\"].str.contains(\"Услуги\") == False] #удаляем данные о доставке и прочих услугах"
      ]
    },
    {
      "cell_type": "code",
      "execution_count": 10,
      "metadata": {
        "id": "420TKEvcdaeP"
      },
      "outputs": [],
      "source": [
        "df2 = df.groupby('Phone_new'). size().reset_index(name='count'). sort_values(['count'], ascending= False )"
      ]
    },
    {
      "cell_type": "code",
      "execution_count": 11,
      "metadata": {
        "id": "2Jsr6qv7oFbz"
      },
      "outputs": [],
      "source": [
        "df3 = df2[df2['count'] > 80] #рассмотреть детальнее"
      ]
    },
    {
      "cell_type": "code",
      "execution_count": 12,
      "metadata": {
        "colab": {
          "base_uri": "https://localhost:8080/",
          "height": 708
        },
        "id": "WmSbP1r5qTCL",
        "outputId": "fd2a777c-7ad7-45ff-9dff-552b384d2f6f"
      },
      "outputs": [
        {
          "data": {
            "text/html": [
              "<div>\n",
              "<style scoped>\n",
              "    .dataframe tbody tr th:only-of-type {\n",
              "        vertical-align: middle;\n",
              "    }\n",
              "\n",
              "    .dataframe tbody tr th {\n",
              "        vertical-align: top;\n",
              "    }\n",
              "\n",
              "    .dataframe thead th {\n",
              "        text-align: right;\n",
              "    }\n",
              "</style>\n",
              "<table border=\"1\" class=\"dataframe\">\n",
              "  <thead>\n",
              "    <tr style=\"text-align: right;\">\n",
              "      <th></th>\n",
              "      <th>Phone_new</th>\n",
              "      <th>count</th>\n",
              "    </tr>\n",
              "  </thead>\n",
              "  <tbody>\n",
              "    <tr>\n",
              "      <th>60712</th>\n",
              "      <td>55574954-484951565653705</td>\n",
              "      <td>1356</td>\n",
              "    </tr>\n",
              "    <tr>\n",
              "      <th>59749</th>\n",
              "      <td>55574953-54565256525374</td>\n",
              "      <td>423</td>\n",
              "    </tr>\n",
              "    <tr>\n",
              "      <th>75</th>\n",
              "      <td>55555750-53535149574979</td>\n",
              "      <td>405</td>\n",
              "    </tr>\n",
              "    <tr>\n",
              "      <th>1698</th>\n",
              "      <td>55574850-51534848565673</td>\n",
              "      <td>396</td>\n",
              "    </tr>\n",
              "    <tr>\n",
              "      <th>14</th>\n",
              "      <td>55485656-57565656575275</td>\n",
              "      <td>276</td>\n",
              "    </tr>\n",
              "    <tr>\n",
              "      <th>49668</th>\n",
              "      <td>55574950-574849515256745</td>\n",
              "      <td>241</td>\n",
              "    </tr>\n",
              "    <tr>\n",
              "      <th>3045</th>\n",
              "      <td>55574850-575051575357745</td>\n",
              "      <td>148</td>\n",
              "    </tr>\n",
              "    <tr>\n",
              "      <th>120419</th>\n",
              "      <td>55575653-56495057484877</td>\n",
              "      <td>134</td>\n",
              "    </tr>\n",
              "    <tr>\n",
              "      <th>449</th>\n",
              "      <td>55574848-51545049555575</td>\n",
              "      <td>129</td>\n",
              "    </tr>\n",
              "    <tr>\n",
              "      <th>93891</th>\n",
              "      <td>55575054-57485155535370</td>\n",
              "      <td>125</td>\n",
              "    </tr>\n",
              "    <tr>\n",
              "      <th>4474</th>\n",
              "      <td>55574851-49505049485074</td>\n",
              "      <td>122</td>\n",
              "    </tr>\n",
              "    <tr>\n",
              "      <th>97618</th>\n",
              "      <td>55575057-53575553514972</td>\n",
              "      <td>108</td>\n",
              "    </tr>\n",
              "    <tr>\n",
              "      <th>62595</th>\n",
              "      <td>55574954-50515654534871</td>\n",
              "      <td>106</td>\n",
              "    </tr>\n",
              "    <tr>\n",
              "      <th>92391</th>\n",
              "      <td>55575054-55485651574974</td>\n",
              "      <td>102</td>\n",
              "    </tr>\n",
              "    <tr>\n",
              "      <th>96048</th>\n",
              "      <td>55575055-55495355575771</td>\n",
              "      <td>90</td>\n",
              "    </tr>\n",
              "    <tr>\n",
              "      <th>2095</th>\n",
              "      <td>55574850-535455485554765</td>\n",
              "      <td>89</td>\n",
              "    </tr>\n",
              "    <tr>\n",
              "      <th>25199</th>\n",
              "      <td>55574853-555650565650705</td>\n",
              "      <td>88</td>\n",
              "    </tr>\n",
              "    <tr>\n",
              "      <th>27206</th>\n",
              "      <td>55574854-505248565549755</td>\n",
              "      <td>87</td>\n",
              "    </tr>\n",
              "    <tr>\n",
              "      <th>90961</th>\n",
              "      <td>55575054-53555551505772</td>\n",
              "      <td>87</td>\n",
              "    </tr>\n",
              "    <tr>\n",
              "      <th>46893</th>\n",
              "      <td>55574949-575352515756775</td>\n",
              "      <td>87</td>\n",
              "    </tr>\n",
              "    <tr>\n",
              "      <th>93783</th>\n",
              "      <td>55575054-56575051575579</td>\n",
              "      <td>81</td>\n",
              "    </tr>\n",
              "  </tbody>\n",
              "</table>\n",
              "</div>"
            ],
            "text/plain": [
              "                       Phone_new  count\n",
              "60712   55574954-484951565653705   1356\n",
              "59749    55574953-54565256525374    423\n",
              "75       55555750-53535149574979    405\n",
              "1698     55574850-51534848565673    396\n",
              "14       55485656-57565656575275    276\n",
              "49668   55574950-574849515256745    241\n",
              "3045    55574850-575051575357745    148\n",
              "120419   55575653-56495057484877    134\n",
              "449      55574848-51545049555575    129\n",
              "93891    55575054-57485155535370    125\n",
              "4474     55574851-49505049485074    122\n",
              "97618    55575057-53575553514972    108\n",
              "62595    55574954-50515654534871    106\n",
              "92391    55575054-55485651574974    102\n",
              "96048    55575055-55495355575771     90\n",
              "2095    55574850-535455485554765     89\n",
              "25199   55574853-555650565650705     88\n",
              "27206   55574854-505248565549755     87\n",
              "90961    55575054-53555551505772     87\n",
              "46893   55574949-575352515756775     87\n",
              "93783    55575054-56575051575579     81"
            ]
          },
          "execution_count": 12,
          "metadata": {},
          "output_type": "execute_result"
        }
      ],
      "source": [
        "df3"
      ]
    },
    {
      "cell_type": "markdown",
      "metadata": {
        "id": "FDtQkfjXCqCe"
      },
      "source": [
        "Клиент с большим количество заказов постоянно заказывает с разной почты товары независимо от их скидки. Возможно, это неверно указанные телефоны или ошибки в данных. Этих клиентов необходимо удалить"
      ]
    },
    {
      "cell_type": "code",
      "execution_count": 13,
      "metadata": {
        "colab": {
          "base_uri": "https://localhost:8080/",
          "height": 1000
        },
        "id": "m7z2wCf5B27o",
        "outputId": "9c31f50a-a14f-4a4b-e26b-e94e3c5fc58f"
      },
      "outputs": [
        {
          "data": {
            "text/html": [
              "<div>\n",
              "<style scoped>\n",
              "    .dataframe tbody tr th:only-of-type {\n",
              "        vertical-align: middle;\n",
              "    }\n",
              "\n",
              "    .dataframe tbody tr th {\n",
              "        vertical-align: top;\n",
              "    }\n",
              "\n",
              "    .dataframe thead th {\n",
              "        text-align: right;\n",
              "    }\n",
              "</style>\n",
              "<table border=\"1\" class=\"dataframe\">\n",
              "  <thead>\n",
              "    <tr style=\"text-align: right;\">\n",
              "      <th></th>\n",
              "      <th>Order_ID</th>\n",
              "      <th>Email_new</th>\n",
              "      <th>Phone_new</th>\n",
              "      <th>Source</th>\n",
              "      <th>OrderDate</th>\n",
              "      <th>время</th>\n",
              "      <th>месяц</th>\n",
              "      <th>ChangeDate</th>\n",
              "      <th>DeliveryDate</th>\n",
              "      <th>PaymentDate</th>\n",
              "      <th>...</th>\n",
              "      <th>Quant</th>\n",
              "      <th>RowPrice</th>\n",
              "      <th>RowDiscount</th>\n",
              "      <th>RowSum</th>\n",
              "      <th>Brand</th>\n",
              "      <th>TN</th>\n",
              "      <th>TK</th>\n",
              "      <th>NomFullPath</th>\n",
              "      <th>Week</th>\n",
              "      <th>Nom_ID</th>\n",
              "    </tr>\n",
              "  </thead>\n",
              "  <tbody>\n",
              "    <tr>\n",
              "      <th>1109</th>\n",
              "      <td>1867003416_TT</td>\n",
              "      <td>55666662111109_om15@mail333.com</td>\n",
              "      <td>55574954-484951565653705</td>\n",
              "      <td>Онлайн-Резерв.</td>\n",
              "      <td>2016-03-01</td>\n",
              "      <td>11:05:17.000</td>\n",
              "      <td>201603</td>\n",
              "      <td>2016-03-01 11:19:12.000</td>\n",
              "      <td>2016-03-01 00:00:00.000</td>\n",
              "      <td>2016-03-01 11:19:14.000</td>\n",
              "      <td>...</td>\n",
              "      <td>1.0</td>\n",
              "      <td>3220.0</td>\n",
              "      <td>0.0</td>\n",
              "      <td>3220.0</td>\n",
              "      <td>Bosch</td>\n",
              "      <td>Мелкая бытовая техника</td>\n",
              "      <td>Приготовление пищи</td>\n",
              "      <td>Техника для кухни/Обработка продуктов/Блендеры/</td>\n",
              "      <td>9.0</td>\n",
              "      <td>18500.0</td>\n",
              "    </tr>\n",
              "    <tr>\n",
              "      <th>1519</th>\n",
              "      <td>1871000582_TT</td>\n",
              "      <td>562111117_ou14@mail.ru</td>\n",
              "      <td>55574954-484951565653705</td>\n",
              "      <td>Онлайн-Резерв.</td>\n",
              "      <td>2016-03-01</td>\n",
              "      <td>12:04:52.000</td>\n",
              "      <td>201603</td>\n",
              "      <td>2016-03-01 12:19:56.000</td>\n",
              "      <td>2016-03-08 00:00:00.000</td>\n",
              "      <td>2016-03-01 12:19:58.000</td>\n",
              "      <td>...</td>\n",
              "      <td>1.0</td>\n",
              "      <td>7299.0</td>\n",
              "      <td>800.0</td>\n",
              "      <td>6499.0</td>\n",
              "      <td>Redmond</td>\n",
              "      <td>Мелкая бытовая техника</td>\n",
              "      <td>Приготовление пищи</td>\n",
              "      <td>Техника для кухни/Приготовление пищи/Мультиварки/</td>\n",
              "      <td>9.0</td>\n",
              "      <td>25315.0</td>\n",
              "    </tr>\n",
              "    <tr>\n",
              "      <th>1711</th>\n",
              "      <td>1961000629_TT</td>\n",
              "      <td>562111117_ou14@mail.ru</td>\n",
              "      <td>55574954-484951565653705</td>\n",
              "      <td>Онлайн-Резерв.</td>\n",
              "      <td>2016-03-01</td>\n",
              "      <td>12:28:31.000</td>\n",
              "      <td>201603</td>\n",
              "      <td>2016-03-01 12:49:42.000</td>\n",
              "      <td>2016-03-08 00:00:00.000</td>\n",
              "      <td>2016-03-01 12:49:44.000</td>\n",
              "      <td>...</td>\n",
              "      <td>1.0</td>\n",
              "      <td>20240.0</td>\n",
              "      <td>0.0</td>\n",
              "      <td>20240.0</td>\n",
              "      <td>Electrolux</td>\n",
              "      <td>Крупная бытовая техника</td>\n",
              "      <td>Встраиваемая техника</td>\n",
              "      <td>Встраиваемая техника/Встраиваемые духовые шкаф...</td>\n",
              "      <td>9.0</td>\n",
              "      <td>38957.0</td>\n",
              "    </tr>\n",
              "    <tr>\n",
              "      <th>1798</th>\n",
              "      <td>1962000982_TT</td>\n",
              "      <td>58112117_pu21@rambler.ru</td>\n",
              "      <td>55574954-484951565653705</td>\n",
              "      <td>Онлайн-Резерв.</td>\n",
              "      <td>2016-03-01</td>\n",
              "      <td>12:42:06.000</td>\n",
              "      <td>201603</td>\n",
              "      <td>2016-03-01 12:59:16.000</td>\n",
              "      <td>2016-03-08 00:00:00.000</td>\n",
              "      <td>2016-03-01 12:59:17.000</td>\n",
              "      <td>...</td>\n",
              "      <td>1.0</td>\n",
              "      <td>4310.0</td>\n",
              "      <td>0.0</td>\n",
              "      <td>4310.0</td>\n",
              "      <td>Prestigio</td>\n",
              "      <td>ТВ-Аудио</td>\n",
              "      <td>Автоэлектроника</td>\n",
              "      <td>Автомобильная электроника/GPS навигаторы/</td>\n",
              "      <td>9.0</td>\n",
              "      <td>220668.0</td>\n",
              "    </tr>\n",
              "    <tr>\n",
              "      <th>1997</th>\n",
              "      <td>1962001073_TT</td>\n",
              "      <td>55666662111109_om15@mail333.com</td>\n",
              "      <td>55574954-484951565653705</td>\n",
              "      <td>Онлайн-Резерв.</td>\n",
              "      <td>2016-03-01</td>\n",
              "      <td>13:09:24.000</td>\n",
              "      <td>201603</td>\n",
              "      <td>2016-03-01 13:19:25.000</td>\n",
              "      <td>2016-03-08 00:00:00.000</td>\n",
              "      <td>2016-03-01 13:19:27.000</td>\n",
              "      <td>...</td>\n",
              "      <td>1.0</td>\n",
              "      <td>29130.0</td>\n",
              "      <td>0.0</td>\n",
              "      <td>29130.0</td>\n",
              "      <td>Hotpoint-Ariston</td>\n",
              "      <td>Крупная бытовая техника</td>\n",
              "      <td>Холодильное оборудование</td>\n",
              "      <td>Техника для кухни/Крупная бытовая техника/Холо...</td>\n",
              "      <td>9.0</td>\n",
              "      <td>150479.0</td>\n",
              "    </tr>\n",
              "    <tr>\n",
              "      <th>...</th>\n",
              "      <td>...</td>\n",
              "      <td>...</td>\n",
              "      <td>...</td>\n",
              "      <td>...</td>\n",
              "      <td>...</td>\n",
              "      <td>...</td>\n",
              "      <td>...</td>\n",
              "      <td>...</td>\n",
              "      <td>...</td>\n",
              "      <td>...</td>\n",
              "      <td>...</td>\n",
              "      <td>...</td>\n",
              "      <td>...</td>\n",
              "      <td>...</td>\n",
              "      <td>...</td>\n",
              "      <td>...</td>\n",
              "      <td>...</td>\n",
              "      <td>...</td>\n",
              "      <td>...</td>\n",
              "      <td>...</td>\n",
              "      <td>...</td>\n",
              "    </tr>\n",
              "    <tr>\n",
              "      <th>356374</th>\n",
              "      <td>5897072_BX</td>\n",
              "      <td>101117_eu14@inbox.ru</td>\n",
              "      <td>55574954-484951565653705</td>\n",
              "      <td>Онлайн-Резерв.</td>\n",
              "      <td>2016-04-30</td>\n",
              "      <td>20:05:29.000</td>\n",
              "      <td>201604</td>\n",
              "      <td>2016-04-30 20:13:49.000</td>\n",
              "      <td>2016-04-30 00:00:00.000</td>\n",
              "      <td>2016-04-30 20:13:50.000</td>\n",
              "      <td>...</td>\n",
              "      <td>1.0</td>\n",
              "      <td>4999.0</td>\n",
              "      <td>0.0</td>\n",
              "      <td>4999.0</td>\n",
              "      <td>Samsung</td>\n",
              "      <td>Мелкая бытовая техника</td>\n",
              "      <td>Уход за домом</td>\n",
              "      <td>Техника для дома/Техника для уборки/Пылесосы/П...</td>\n",
              "      <td>17.0</td>\n",
              "      <td>25296.0</td>\n",
              "    </tr>\n",
              "    <tr>\n",
              "      <th>356454</th>\n",
              "      <td>5897202_BX</td>\n",
              "      <td>666668105117_iu15@ya.ru</td>\n",
              "      <td>55574954-484951565653705</td>\n",
              "      <td>Онлайн-Резерв.</td>\n",
              "      <td>2016-04-30</td>\n",
              "      <td>20:29:25.000</td>\n",
              "      <td>201604</td>\n",
              "      <td>2016-04-30 21:23:39.000</td>\n",
              "      <td>2016-04-30 00:00:00.000</td>\n",
              "      <td>2016-04-30 21:23:40.000</td>\n",
              "      <td>...</td>\n",
              "      <td>1.0</td>\n",
              "      <td>33490.0</td>\n",
              "      <td>1300.0</td>\n",
              "      <td>32190.0</td>\n",
              "      <td>Hotpoint-Ariston</td>\n",
              "      <td>Крупная бытовая техника</td>\n",
              "      <td>Холодильное оборудование</td>\n",
              "      <td>Техника для кухни/Крупная бытовая техника/Холо...</td>\n",
              "      <td>17.0</td>\n",
              "      <td>151343.0</td>\n",
              "    </tr>\n",
              "    <tr>\n",
              "      <th>356470</th>\n",
              "      <td>5897236_BX</td>\n",
              "      <td>556664122109_zm25@gmail.com</td>\n",
              "      <td>55574954-484951565653705</td>\n",
              "      <td>Онлайн-Резерв.</td>\n",
              "      <td>2016-04-30</td>\n",
              "      <td>20:37:02.000</td>\n",
              "      <td>201604</td>\n",
              "      <td>2016-04-30 20:43:48.000</td>\n",
              "      <td>2016-04-30 00:00:00.000</td>\n",
              "      <td>2016-04-30 20:43:48.000</td>\n",
              "      <td>...</td>\n",
              "      <td>1.0</td>\n",
              "      <td>1310.0</td>\n",
              "      <td>0.0</td>\n",
              "      <td>1310.0</td>\n",
              "      <td>Ginzzu</td>\n",
              "      <td>Аксессуары</td>\n",
              "      <td>Аксессуары для смартфонов и планшетов</td>\n",
              "      <td>Телефоны и связь/Аксессуары для телефонов/Порт...</td>\n",
              "      <td>17.0</td>\n",
              "      <td>203883.0</td>\n",
              "    </tr>\n",
              "    <tr>\n",
              "      <th>356668</th>\n",
              "      <td>5897554_BX</td>\n",
              "      <td>558115117_su21@psbank.ru</td>\n",
              "      <td>55574954-484951565653705</td>\n",
              "      <td>Онлайн-Резерв.</td>\n",
              "      <td>2016-04-30</td>\n",
              "      <td>21:36:40.000</td>\n",
              "      <td>201604</td>\n",
              "      <td>2016-05-02 14:39:01.000</td>\n",
              "      <td>2016-04-30 00:00:00.000</td>\n",
              "      <td>2016-05-02 14:39:02.000</td>\n",
              "      <td>...</td>\n",
              "      <td>1.0</td>\n",
              "      <td>499.0</td>\n",
              "      <td>33.0</td>\n",
              "      <td>466.0</td>\n",
              "      <td>DF</td>\n",
              "      <td>Аксессуары</td>\n",
              "      <td>Аксессуары для смартфонов и планшетов</td>\n",
              "      <td>Телефоны и связь/Аксессуары для телефонов/Защи...</td>\n",
              "      <td>17.0</td>\n",
              "      <td>182012.0</td>\n",
              "    </tr>\n",
              "    <tr>\n",
              "      <th>356669</th>\n",
              "      <td>5897554_BX</td>\n",
              "      <td>558115117_su21@psbank.ru</td>\n",
              "      <td>55574954-484951565653705</td>\n",
              "      <td>Онлайн-Резерв.</td>\n",
              "      <td>2016-04-30</td>\n",
              "      <td>21:36:40.000</td>\n",
              "      <td>201604</td>\n",
              "      <td>2016-05-02 14:39:01.000</td>\n",
              "      <td>2016-04-30 00:00:00.000</td>\n",
              "      <td>2016-05-02 14:39:02.000</td>\n",
              "      <td>...</td>\n",
              "      <td>1.0</td>\n",
              "      <td>14520.0</td>\n",
              "      <td>967.0</td>\n",
              "      <td>13553.0</td>\n",
              "      <td>Indesit</td>\n",
              "      <td>Крупная бытовая техника</td>\n",
              "      <td>Стиральные машины</td>\n",
              "      <td>Техника для дома/Стиральные и сушильные машины...</td>\n",
              "      <td>17.0</td>\n",
              "      <td>5703.0</td>\n",
              "    </tr>\n",
              "  </tbody>\n",
              "</table>\n",
              "<p>1356 rows × 37 columns</p>\n",
              "</div>"
            ],
            "text/plain": [
              "             Order_ID                        Email_new  \\\n",
              "1109    1867003416_TT  55666662111109_om15@mail333.com   \n",
              "1519    1871000582_TT           562111117_ou14@mail.ru   \n",
              "1711    1961000629_TT           562111117_ou14@mail.ru   \n",
              "1798    1962000982_TT         58112117_pu21@rambler.ru   \n",
              "1997    1962001073_TT  55666662111109_om15@mail333.com   \n",
              "...               ...                              ...   \n",
              "356374     5897072_BX             101117_eu14@inbox.ru   \n",
              "356454     5897202_BX          666668105117_iu15@ya.ru   \n",
              "356470     5897236_BX      556664122109_zm25@gmail.com   \n",
              "356668     5897554_BX         558115117_su21@psbank.ru   \n",
              "356669     5897554_BX         558115117_su21@psbank.ru   \n",
              "\n",
              "                       Phone_new          Source  OrderDate         время  \\\n",
              "1109    55574954-484951565653705  Онлайн-Резерв. 2016-03-01  11:05:17.000   \n",
              "1519    55574954-484951565653705  Онлайн-Резерв. 2016-03-01  12:04:52.000   \n",
              "1711    55574954-484951565653705  Онлайн-Резерв. 2016-03-01  12:28:31.000   \n",
              "1798    55574954-484951565653705  Онлайн-Резерв. 2016-03-01  12:42:06.000   \n",
              "1997    55574954-484951565653705  Онлайн-Резерв. 2016-03-01  13:09:24.000   \n",
              "...                          ...             ...        ...           ...   \n",
              "356374  55574954-484951565653705  Онлайн-Резерв. 2016-04-30  20:05:29.000   \n",
              "356454  55574954-484951565653705  Онлайн-Резерв. 2016-04-30  20:29:25.000   \n",
              "356470  55574954-484951565653705  Онлайн-Резерв. 2016-04-30  20:37:02.000   \n",
              "356668  55574954-484951565653705  Онлайн-Резерв. 2016-04-30  21:36:40.000   \n",
              "356669  55574954-484951565653705  Онлайн-Резерв. 2016-04-30  21:36:40.000   \n",
              "\n",
              "         месяц               ChangeDate             DeliveryDate  \\\n",
              "1109    201603  2016-03-01 11:19:12.000  2016-03-01 00:00:00.000   \n",
              "1519    201603  2016-03-01 12:19:56.000  2016-03-08 00:00:00.000   \n",
              "1711    201603  2016-03-01 12:49:42.000  2016-03-08 00:00:00.000   \n",
              "1798    201603  2016-03-01 12:59:16.000  2016-03-08 00:00:00.000   \n",
              "1997    201603  2016-03-01 13:19:25.000  2016-03-08 00:00:00.000   \n",
              "...        ...                      ...                      ...   \n",
              "356374  201604  2016-04-30 20:13:49.000  2016-04-30 00:00:00.000   \n",
              "356454  201604  2016-04-30 21:23:39.000  2016-04-30 00:00:00.000   \n",
              "356470  201604  2016-04-30 20:43:48.000  2016-04-30 00:00:00.000   \n",
              "356668  201604  2016-05-02 14:39:01.000  2016-04-30 00:00:00.000   \n",
              "356669  201604  2016-05-02 14:39:01.000  2016-04-30 00:00:00.000   \n",
              "\n",
              "                    PaymentDate  ... Quant  RowPrice  RowDiscount   RowSum  \\\n",
              "1109    2016-03-01 11:19:14.000  ...   1.0    3220.0          0.0   3220.0   \n",
              "1519    2016-03-01 12:19:58.000  ...   1.0    7299.0        800.0   6499.0   \n",
              "1711    2016-03-01 12:49:44.000  ...   1.0   20240.0          0.0  20240.0   \n",
              "1798    2016-03-01 12:59:17.000  ...   1.0    4310.0          0.0   4310.0   \n",
              "1997    2016-03-01 13:19:27.000  ...   1.0   29130.0          0.0  29130.0   \n",
              "...                         ...  ...   ...       ...          ...      ...   \n",
              "356374  2016-04-30 20:13:50.000  ...   1.0    4999.0          0.0   4999.0   \n",
              "356454  2016-04-30 21:23:40.000  ...   1.0   33490.0       1300.0  32190.0   \n",
              "356470  2016-04-30 20:43:48.000  ...   1.0    1310.0          0.0   1310.0   \n",
              "356668  2016-05-02 14:39:02.000  ...   1.0     499.0         33.0    466.0   \n",
              "356669  2016-05-02 14:39:02.000  ...   1.0   14520.0        967.0  13553.0   \n",
              "\n",
              "                   Brand                       TN  \\\n",
              "1109               Bosch   Мелкая бытовая техника   \n",
              "1519             Redmond   Мелкая бытовая техника   \n",
              "1711          Electrolux  Крупная бытовая техника   \n",
              "1798           Prestigio                 ТВ-Аудио   \n",
              "1997    Hotpoint-Ariston  Крупная бытовая техника   \n",
              "...                  ...                      ...   \n",
              "356374           Samsung   Мелкая бытовая техника   \n",
              "356454  Hotpoint-Ariston  Крупная бытовая техника   \n",
              "356470            Ginzzu               Аксессуары   \n",
              "356668                DF               Аксессуары   \n",
              "356669           Indesit  Крупная бытовая техника   \n",
              "\n",
              "                                           TK  \\\n",
              "1109                       Приготовление пищи   \n",
              "1519                       Приготовление пищи   \n",
              "1711                     Встраиваемая техника   \n",
              "1798                          Автоэлектроника   \n",
              "1997                 Холодильное оборудование   \n",
              "...                                       ...   \n",
              "356374                          Уход за домом   \n",
              "356454               Холодильное оборудование   \n",
              "356470  Аксессуары для смартфонов и планшетов   \n",
              "356668  Аксессуары для смартфонов и планшетов   \n",
              "356669                      Стиральные машины   \n",
              "\n",
              "                                              NomFullPath  Week    Nom_ID  \n",
              "1109      Техника для кухни/Обработка продуктов/Блендеры/   9.0   18500.0  \n",
              "1519    Техника для кухни/Приготовление пищи/Мультиварки/   9.0   25315.0  \n",
              "1711    Встраиваемая техника/Встраиваемые духовые шкаф...   9.0   38957.0  \n",
              "1798            Автомобильная электроника/GPS навигаторы/   9.0  220668.0  \n",
              "1997    Техника для кухни/Крупная бытовая техника/Холо...   9.0  150479.0  \n",
              "...                                                   ...   ...       ...  \n",
              "356374  Техника для дома/Техника для уборки/Пылесосы/П...  17.0   25296.0  \n",
              "356454  Техника для кухни/Крупная бытовая техника/Холо...  17.0  151343.0  \n",
              "356470  Телефоны и связь/Аксессуары для телефонов/Порт...  17.0  203883.0  \n",
              "356668  Телефоны и связь/Аксессуары для телефонов/Защи...  17.0  182012.0  \n",
              "356669  Техника для дома/Стиральные и сушильные машины...  17.0    5703.0  \n",
              "\n",
              "[1356 rows x 37 columns]"
            ]
          },
          "execution_count": 13,
          "metadata": {},
          "output_type": "execute_result"
        }
      ],
      "source": [
        "df[df.Phone_new == '55574954-484951565653705']"
      ]
    },
    {
      "cell_type": "code",
      "execution_count": 14,
      "metadata": {
        "id": "9WYNP2T6r2Xs"
      },
      "outputs": [],
      "source": [
        "df=df[~df.Phone_new.isin(df3.Phone_new)] #удаляем подозрительно много заказов"
      ]
    },
    {
      "cell_type": "code",
      "execution_count": 15,
      "metadata": {
        "colab": {
          "base_uri": "https://localhost:8080/"
        },
        "id": "H4mfdSNbvMak",
        "outputId": "835cace9-ac5b-4957-f001-f9f04ec9b992"
      },
      "outputs": [
        {
          "data": {
            "text/plain": [
              "183072"
            ]
          },
          "execution_count": 15,
          "metadata": {},
          "output_type": "execute_result"
        }
      ],
      "source": [
        "len(df) #стало на 98к записей меньше"
      ]
    },
    {
      "cell_type": "code",
      "execution_count": 16,
      "metadata": {
        "id": "yORU6OCNwVPd"
      },
      "outputs": [],
      "source": [
        "df.to_excel(\"electronika_clean.xlsx\")"
      ]
    }
  ],
  "metadata": {
    "colab": {
      "provenance": []
    },
    "kernelspec": {
      "display_name": ".venv",
      "language": "python",
      "name": "python3"
    },
    "language_info": {
      "codemirror_mode": {
        "name": "ipython",
        "version": 3
      },
      "file_extension": ".py",
      "mimetype": "text/x-python",
      "name": "python",
      "nbconvert_exporter": "python",
      "pygments_lexer": "ipython3",
      "version": "3.11.9"
    }
  },
  "nbformat": 4,
  "nbformat_minor": 0
}
